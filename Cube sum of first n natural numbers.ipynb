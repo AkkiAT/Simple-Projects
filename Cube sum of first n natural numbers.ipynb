{
 "cells": [
  {
   "cell_type": "code",
   "execution_count": 3,
   "metadata": {},
   "outputs": [
    {
     "name": "stdout",
     "output_type": "stream",
     "text": [
      "The cube sum of the first 5 natural numbers is: 225\n"
     ]
    }
   ],
   "source": [
    "# Program for cube sum of first n natural numbers\n",
    "def cube_sum_of_natural_numbers(n):\n",
    "    if n <= 0:\n",
    "        return 0\n",
    "    else:\n",
    "        total = sum([i**3 for i in range(1, n+1)])\n",
    "        return total \n",
    "#input the number of natural numbers that\n",
    "n = int(input(\"Enter the value of n: \"))\n",
    "if n <= 0:\n",
    "    print(\"Please enter a positive integer. \") \n",
    "else:\n",
    "    result = cube_sum_of_natural_numbers(n)\n",
    "    print(f\"The cube sum of the first {n} natural numbers is: {result}\")       "
   ]
  }
 ],
 "metadata": {
  "kernelspec": {
   "display_name": "base",
   "language": "python",
   "name": "python3"
  },
  "language_info": {
   "codemirror_mode": {
    "name": "ipython",
    "version": 3
   },
   "file_extension": ".py",
   "mimetype": "text/x-python",
   "name": "python",
   "nbconvert_exporter": "python",
   "pygments_lexer": "ipython3",
   "version": "3.9.13"
  }
 },
 "nbformat": 4,
 "nbformat_minor": 2
}
