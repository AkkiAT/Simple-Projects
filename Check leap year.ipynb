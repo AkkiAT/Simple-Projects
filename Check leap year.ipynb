{
 "cells": [
  {
   "cell_type": "code",
   "execution_count": 1,
   "metadata": {},
   "outputs": [
    {
     "name": "stdout",
     "output_type": "stream",
     "text": [
      "2024 is a leap year\n"
     ]
    }
   ],
   "source": [
    "#Check leap year\n",
    "year = int(input(\"Enter a year: \"))\n",
    "#divided by 100 means century year(ending with 00)\n",
    "#century year divided by 400 is leap year\n",
    "if (year % 400 == 0) and (year % 100 == 0):\n",
    "    print(\"{0} is a leap year\".format(year))\n",
    "    \n",
    "#not divided 100 means not a century year\n",
    "#year divided by 4 is a leap year.\n",
    "elif (year % 4 ==0) and (year % 100 !=0):\n",
    "    print(\"{0} is a leap year\".format(year))\n",
    "#if not divided by both 400 (century year) and 4 (not century year)\n",
    "#year is not leap year\n",
    "else:\n",
    "    print(\"{0} is not a leap year\".format(year))        "
   ]
  }
 ],
 "metadata": {
  "kernelspec": {
   "display_name": "base",
   "language": "python",
   "name": "python3"
  },
  "language_info": {
   "codemirror_mode": {
    "name": "ipython",
    "version": 3
   },
   "file_extension": ".py",
   "mimetype": "text/x-python",
   "name": "python",
   "nbconvert_exporter": "python",
   "pygments_lexer": "ipython3",
   "version": "3.9.13"
  }
 },
 "nbformat": 4,
 "nbformat_minor": 2
}
