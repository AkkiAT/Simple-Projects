{
 "cells": [
  {
   "cell_type": "code",
   "execution_count": 1,
   "metadata": {},
   "outputs": [
    {
     "name": "stdout",
     "output_type": "stream",
     "text": [
      "After swapping: \n",
      "a = 10\n",
      "b = 5\n"
     ]
    }
   ],
   "source": [
    "#swapping two numbers\n",
    "a = 5\n",
    "b = 10\n",
    "\n",
    "# swapping without a temprory variable\n",
    "a, b = b, a\n",
    "\n",
    "print(\"After swapping: \")\n",
    "print(\"a =\", a)\n",
    "print(\"b =\", b)"
   ]
  }
 ],
 "metadata": {
  "kernelspec": {
   "display_name": "Python 3",
   "language": "python",
   "name": "python3"
  },
  "language_info": {
   "name": "python",
   "version": "3.9.13"
  }
 },
 "nbformat": 4,
 "nbformat_minor": 2
}
