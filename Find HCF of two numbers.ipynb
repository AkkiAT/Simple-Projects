{
 "cells": [
  {
   "cell_type": "code",
   "execution_count": 1,
   "metadata": {},
   "outputs": [
    {
     "name": "stdout",
     "output_type": "stream",
     "text": [
      "The H.C.F. is 2\n"
     ]
    }
   ],
   "source": [
    "#Find to H.C.F of two numbers\n",
    "#define a function\n",
    "def compute_hcf(x,y):\n",
    "    \n",
    "    #choose the smaller number\n",
    "    if x>y:\n",
    "        smaller = y\n",
    "    else:\n",
    "        smaller = x\n",
    "    for i in range(1, smaller+1):\n",
    "        if ((x % i == 0) and (y % i ==0)):\n",
    "            hcf = i\n",
    "    return hcf\n",
    "num1 = int(input(\"Enter the number: \"))\n",
    "num2 = int(input(\"Enter the number: \"))\n",
    "print(\"The H.C.F. is\", compute_hcf(num1, num2))                "
   ]
  }
 ],
 "metadata": {
  "kernelspec": {
   "display_name": "base",
   "language": "python",
   "name": "python3"
  },
  "language_info": {
   "codemirror_mode": {
    "name": "ipython",
    "version": 3
   },
   "file_extension": ".py",
   "mimetype": "text/x-python",
   "name": "python",
   "nbconvert_exporter": "python",
   "pygments_lexer": "ipython3",
   "version": "3.9.13"
  }
 },
 "nbformat": 4,
 "nbformat_minor": 2
}
